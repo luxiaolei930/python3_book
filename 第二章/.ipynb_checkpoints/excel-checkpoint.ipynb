{
 "cells": [
  {
   "cell_type": "code",
   "execution_count": 4,
   "metadata": {},
   "outputs": [
    {
     "ename": "TypeError",
     "evalue": "read_excel() missing 1 required positional argument: 'io'",
     "output_type": "error",
     "traceback": [
      "\u001b[1;31m---------------------------------------------------------------------------\u001b[0m",
      "\u001b[1;31mTypeError\u001b[0m                                 Traceback (most recent call last)",
      "\u001b[1;32m<ipython-input-4-c8916284ab64>\u001b[0m in \u001b[0;36m<module>\u001b[1;34m\u001b[0m\n\u001b[0;32m      7\u001b[0m \u001b[1;32mfor\u001b[0m \u001b[0meach\u001b[0m \u001b[1;32min\u001b[0m \u001b[0mos\u001b[0m\u001b[1;33m.\u001b[0m\u001b[0mlistdir\u001b[0m\u001b[1;33m(\u001b[0m\u001b[1;34m'./test'\u001b[0m\u001b[1;33m)\u001b[0m\u001b[1;33m:\u001b[0m\u001b[1;33m\u001b[0m\u001b[1;33m\u001b[0m\u001b[0m\n\u001b[0;32m      8\u001b[0m \u001b[1;31m#对于'/test'路径下的所有文件。需注意Python打开文件路径的格式，应当为'/'而非'\\'，因为python中的反斜杠'\\'表示转义字符。\u001b[0m\u001b[1;33m\u001b[0m\u001b[1;33m\u001b[0m\u001b[1;33m\u001b[0m\u001b[0m\n\u001b[1;32m----> 9\u001b[1;33m     \u001b[0mdata\u001b[0m\u001b[1;33m=\u001b[0m\u001b[0mpd\u001b[0m\u001b[1;33m.\u001b[0m\u001b[0mread_excel\u001b[0m\u001b[1;33m(\u001b[0m\u001b[1;33m)\u001b[0m\u001b[1;33m\u001b[0m\u001b[1;33m\u001b[0m\u001b[0m\n\u001b[0m\u001b[0;32m     10\u001b[0m \u001b[1;31m#使用pd.read_excel()函数读取数据\u001b[0m\u001b[1;33m\u001b[0m\u001b[1;33m\u001b[0m\u001b[1;33m\u001b[0m\u001b[0m\n\u001b[0;32m     11\u001b[0m     \u001b[0mdata_merge\u001b[0m\u001b[1;33m=\u001b[0m\u001b[0mpd\u001b[0m\u001b[1;33m.\u001b[0m\u001b[0mconcat\u001b[0m\u001b[1;33m(\u001b[0m\u001b[1;33m[\u001b[0m\u001b[0mdata_merge\u001b[0m\u001b[1;33m]\u001b[0m\u001b[1;33m)\u001b[0m\u001b[1;33m\u001b[0m\u001b[1;33m\u001b[0m\u001b[0m\n",
      "\u001b[1;32mc:\\users\\t480s\\appdata\\local\\programs\\python\\python37\\lib\\site-packages\\pandas\\util\\_decorators.py\u001b[0m in \u001b[0;36mwrapper\u001b[1;34m(*args, **kwargs)\u001b[0m\n\u001b[0;32m    206\u001b[0m                 \u001b[1;32melse\u001b[0m\u001b[1;33m:\u001b[0m\u001b[1;33m\u001b[0m\u001b[1;33m\u001b[0m\u001b[0m\n\u001b[0;32m    207\u001b[0m                     \u001b[0mkwargs\u001b[0m\u001b[1;33m[\u001b[0m\u001b[0mnew_arg_name\u001b[0m\u001b[1;33m]\u001b[0m \u001b[1;33m=\u001b[0m \u001b[0mnew_arg_value\u001b[0m\u001b[1;33m\u001b[0m\u001b[1;33m\u001b[0m\u001b[0m\n\u001b[1;32m--> 208\u001b[1;33m             \u001b[1;32mreturn\u001b[0m \u001b[0mfunc\u001b[0m\u001b[1;33m(\u001b[0m\u001b[1;33m*\u001b[0m\u001b[0margs\u001b[0m\u001b[1;33m,\u001b[0m \u001b[1;33m**\u001b[0m\u001b[0mkwargs\u001b[0m\u001b[1;33m)\u001b[0m\u001b[1;33m\u001b[0m\u001b[1;33m\u001b[0m\u001b[0m\n\u001b[0m\u001b[0;32m    209\u001b[0m \u001b[1;33m\u001b[0m\u001b[0m\n\u001b[0;32m    210\u001b[0m         \u001b[1;32mreturn\u001b[0m \u001b[0mwrapper\u001b[0m\u001b[1;33m\u001b[0m\u001b[1;33m\u001b[0m\u001b[0m\n",
      "\u001b[1;31mTypeError\u001b[0m: read_excel() missing 1 required positional argument: 'io'"
     ]
    }
   ],
   "source": [
    "import pandas as pd\n",
    "#引入pandas工具包\n",
    "import os\n",
    "#引入os工具包\n",
    "data_merge=pd.DataFrame()\n",
    "#将文件格式设定为DataFrame\n",
    "for each in os.listdir('./test'):\n",
    "#对于'/test'路径下的所有文件。需注意Python打开文件路径的格式，应当为'/'而非'\\'，因为python中的反斜杠'\\'表示转义字符。\n",
    "    data=pd.read_excel()\n",
    "#使用pd.read_excel()函数读取数据\n",
    "    data_merge=pd.concat([data_merge])\n",
    "#使用pd.concat()函数合并数据\n",
    "    data_merge.to_excel()\n",
    "#将文档保存在"
   ]
  },
  {
   "cell_type": "code",
   "execution_count": 2,
   "metadata": {},
   "outputs": [
    {
     "name": "stdout",
     "output_type": "stream",
     "text": [
      "['Sheet1']\n",
      "行数：5\n",
      "列数：4\n",
      "[0.0, 'Luguirong', 'Male', '61']\n",
      "['Name', 'Luguirong', 'Zhengaiqing', 'Zhengyulin', 'Lubinliang']\n",
      "Luguirong\n"
     ]
    }
   ],
   "source": [
    " # 导入xlrd工具包  \n",
    "import xlrd  \n",
    "# 打开Excel文件,读取工作簿数据  \n",
    "data = xlrd.open_workbook(\"excel.xls\")  \n",
    "# 获取所有sheet名称  \n",
    "sheet_names = data.sheet_names()  \n",
    "print(sheet_names) #结果: ['Sheet1']  \n",
    "# 通过sheet_by_index(0)获取第一个sheet,即Sheet1  \n",
    "sheet = data.sheet_by_index(0)  \n",
    "# 显示sheet的行列数量,nrows和ncols分别代表行和列的数量。  \n",
    "print(\"行数：\" + str(sheet.nrows))  \n",
    "print(\"列数：\" + str(sheet.ncols))  \n",
    "# 通过row_values(n)获取第(n+1)行数据  \n",
    "row_value = sheet.row_values(1) #获取第二行数据  \n",
    "print(row_value)  \n",
    "# 通过col_values(n)获取第(n+1)行数据  \n",
    "col_value = sheet.col_values(1) #获取第二列数据  \n",
    "print(col_value)  \n",
    "# 通过cell_value(m, n)获取(m+1)行，(n+1)列单元格的内容  \n",
    "content = sheet.cell_value(1,1)  \n",
    "print(content) \n"
   ]
  },
  {
   "cell_type": "code",
   "execution_count": 2,
   "metadata": {},
   "outputs": [],
   "source": [
    "#导入xlwt工具包\n",
    "import xlwt\n",
    "#新建workbook\n",
    "workbook = xlwt.Workbook()\n",
    "#创建sheet，并命名为“SheetTest1”\n",
    "sheet = workbook.add_sheet('SheetTest1')\n",
    "#依次写入第1行数据，第1行为表头，\n",
    "sheet.write(0, 0, \"Name\")\n",
    "sheet.write(0, 1, \"Gender\")\n",
    "sheet.write(0, 2, \"Age\")\n",
    "#写入第2行数据\n",
    "sheet.write(1, 0, \"Luguirong\")\n",
    "sheet.write(1, 1, \"Male\")\n",
    "sheet.write(1, 2, \"61\")\n",
    "# 写入第3行数据\n",
    "sheet.write(2, 0, \"Zhengaiqing\")\n",
    "sheet.write(2, 1, \"Female\")\n",
    "sheet.write(2, 2, \"57\")\n",
    "# 写入第4行数据\n",
    "sheet.write(3, 0, \"Zhengyulin\")\n",
    "sheet.write(3, 1, \"Female\")\n",
    "sheet.write(3, 2, \"22\")\n",
    "# 保存xls\n",
    "workbook.save(\"xlwt_excel.xls\")"
   ]
  }
 ],
 "metadata": {
  "kernelspec": {
   "display_name": "Python 3",
   "language": "python",
   "name": "python3"
  },
  "language_info": {
   "codemirror_mode": {
    "name": "ipython",
    "version": 3
   },
   "file_extension": ".py",
   "mimetype": "text/x-python",
   "name": "python",
   "nbconvert_exporter": "python",
   "pygments_lexer": "ipython3",
   "version": "3.6.8"
  }
 },
 "nbformat": 4,
 "nbformat_minor": 2
}
